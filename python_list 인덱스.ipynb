{
 "cells": [
  {
   "cell_type": "markdown",
   "metadata": {},
   "source": [
    "list 에서 배열의 index에 접근하는 방법이 여러가지 있다.\n",
    "\n",
    "기본적으로 사용하는 index 접근 방법이다.<br>\n",
    "`list[A:B] = index A 부터 index B-1 까지`"
   ]
  },
  {
   "cell_type": "markdown",
   "metadata": {},
   "source": [
    "```python\n",
    ">> list = [0, 1, 2, 3, 4, 5, 6, 7, 8, 9]\n",
    ">> list\n",
    "[0, 1, 2, 3, 4, 5, 6, 7, 8, 9]\n",
    "\n",
    ">> list[:3] # 처음부터 index 2 까지\n",
    "[0, 1, 2]\n",
    "\n",
    ">> list[5:] # index 5 부터 끝까지\n",
    "[5, 6, 7, 8, 9]\n",
    "\n",
    ">> list[4:7] # index 4 부터 index 6 까지\n",
    "[4, 5, 6]\n",
    "```"
   ]
  },
  {
   "cell_type": "markdown",
   "metadata": {},
   "source": [
    "다음은 더 나아가 거꾸로 출력하는 방법과 간격을 두어 출력하는 방법을 알아보겠다."
   ]
  },
  {
   "cell_type": "markdown",
   "metadata": {},
   "source": [
    "```python\n",
    ">> list = [0, 1, 2, 3, 4, 5, 6, 7, 8, 9]\n",
    "\n",
    "\n",
    ">> list[::-1] # 역순으로 -1칸 간격으로\n",
    "[9, 8, 7, 6, 5, 4, 3, 2, 1, 0]\n",
    "\n",
    ">> list[::-2] # 역순으로 -2칸 간격으로\n",
    "[9, 7, 5, 3, 1]\n",
    "\n",
    ">> list[::2] # 처음부터 끝까지 2칸 간격으로\n",
    "[0, 2, 4, 6, 8]\n",
    "\n",
    ">> list[1::2] # index 1 부터 끝까지 2칸 간격으로\n",
    "[1, 3, 5, 7, 9]\n",
    "\n",
    ">> list[5::-1] # index 5부터 역순으로 -1 칸 간격으로\n",
    "[5, 4, 3, 2, 1, 0]\n",
    "\n",
    ">> list[3:8:2] # index 3부터 index 7까지 2칸 간격으로\n",
    "[3, 5, 7]\n",
    "```"
   ]
  },
  {
   "cell_type": "code",
   "execution_count": 10,
   "metadata": {},
   "outputs": [
    {
     "name": "stdout",
     "output_type": "stream",
     "text": [
      "[3, 5, 7]\n"
     ]
    }
   ],
   "source": [
    "list = [0,1,2,3,4,5,6,7,8,9]\n",
    "\n",
    "print(list[3:8:2])"
   ]
  },
  {
   "cell_type": "code",
   "execution_count": null,
   "metadata": {},
   "outputs": [],
   "source": []
  }
 ],
 "metadata": {
  "kernelspec": {
   "display_name": "Python 3",
   "language": "python",
   "name": "python3"
  },
  "language_info": {
   "codemirror_mode": {
    "name": "ipython",
    "version": 3
   },
   "file_extension": ".py",
   "mimetype": "text/x-python",
   "name": "python",
   "nbconvert_exporter": "python",
   "pygments_lexer": "ipython3",
   "version": "3.7.7"
  }
 },
 "nbformat": 4,
 "nbformat_minor": 4
}
