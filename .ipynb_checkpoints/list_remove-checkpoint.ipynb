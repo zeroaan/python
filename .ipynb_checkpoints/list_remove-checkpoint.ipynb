{
 "cells": [
  {
   "cell_type": "markdown",
   "metadata": {},
   "source": [
    "# 리스트 값 제거"
   ]
  },
  {
   "cell_type": "markdown",
   "metadata": {},
   "source": [
    "### remove 함수 사용"
   ]
  },
  {
   "cell_type": "code",
   "execution_count": 2,
   "metadata": {},
   "outputs": [
    {
     "name": "stdout",
     "output_type": "stream",
     "text": [
      "['kim', 'lee', 'choi']\n"
     ]
    }
   ],
   "source": [
    "list = ['kim', 'lee', 'park', 'choi']\n",
    "list.remove('park') # 'park' 삭제\n",
    "print(list)"
   ]
  },
  {
   "cell_type": "markdown",
   "metadata": {},
   "source": [
    "#### *리스트에 같은 값이 있을 경우에는 앞에 있는 값이 사라진다.*\n",
    "\n",
    "### 만약 리스트에 있는 해당 값을 모두 지우고 싶다면 반복문을 사용해 지워야 한다."
   ]
  },
  {
   "cell_type": "code",
   "execution_count": 4,
   "metadata": {},
   "outputs": [
    {
     "name": "stdout",
     "output_type": "stream",
     "text": [
      "['kim', 'park', 'choi']\n"
     ]
    }
   ],
   "source": [
    "list2 = ['kim', 'lee', 'park', 'choi', 'lee', 'lee']\n",
    "\n",
    "while 'lee' in list2:\n",
    "    list2.remove('lee') # 'lee' 삭제\n",
    "\n",
    "print(list2)"
   ]
  }
 ],
 "metadata": {
  "kernelspec": {
   "display_name": "Python 3",
   "language": "python",
   "name": "python3"
  },
  "language_info": {
   "codemirror_mode": {
    "name": "ipython",
    "version": 3
   },
   "file_extension": ".py",
   "mimetype": "text/x-python",
   "name": "python",
   "nbconvert_exporter": "python",
   "pygments_lexer": "ipython3",
   "version": "3.7.7"
  }
 },
 "nbformat": 4,
 "nbformat_minor": 4
}
