{
 "cells": [
  {
   "cell_type": "markdown",
   "metadata": {},
   "source": [
    "# Q. 각 학급별 최고, 최저 점수와 평균을 구해보자."
   ]
  },
  {
   "cell_type": "markdown",
   "metadata": {},
   "source": [
    "#### - list를 생성하여 한 학급당 40명인 3학급의 성적을 발생시켜 저장\n",
    "####   (난수 발생 메커니즘 및 2차원 list 이용)\n",
    "#### - 각 학급별 최고점수와 최저점수 및 평균 출력\n",
    "#### - 전체 학급의 최고점수와 최저점수 및 전체 평균 점수 출력"
   ]
  },
  {
   "cell_type": "code",
   "execution_count": 8,
   "metadata": {},
   "outputs": [
    {
     "name": "stdout",
     "output_type": "stream",
     "text": [
      "********************************\n",
      "1 반의 평균은  58.725\n",
      "1 반 최고점은  100\n",
      "1 반 최저점은  4\n",
      "********************************\n",
      "********************************\n",
      "2 반의 평균은  43.1\n",
      "2 반 최고점은  96\n",
      "2 반 최저점은  0\n",
      "********************************\n",
      "********************************\n",
      "3 반의 평균은  45.525\n",
      "3 반 최고점은  100\n",
      "3 반 최저점은  1\n",
      "********************************\n",
      "********************************\n",
      "전체 평균점은  49.11666666666667\n",
      "전체 최고점은  100\n",
      "전체 최저점은  0\n",
      "********************************\n"
     ]
    }
   ],
   "source": [
    "from random import randint\n",
    "\n",
    "list = []\n",
    "average, max_value, min_value = [], [], []\n",
    "for i in range(3):\n",
    "    a = []\n",
    "    for j in range(40):\n",
    "        a.append(randint(0,100))\n",
    "    list.append(a)\n",
    "    \n",
    "    print(\"********************************\")\n",
    "    print(i+1, \"반의 평균은 \", sum(list[i])/40)\n",
    "    print(i+1, \"반 최고점은 \", max(list[i]))\n",
    "    print(i+1, \"반 최저점은 \", min(list[i]))\n",
    "    print(\"********************************\")\n",
    "    \n",
    "    average.append(sum(list[i])/40)\n",
    "    max_value.append(max(list[i]))\n",
    "    min_value.append(min(list[i]))\n",
    "    \n",
    "print(\"********************************\")\n",
    "print(\"전체 평균점은 \", sum(average)/3)\n",
    "print(\"전체 최고점은 \", max(max_value))\n",
    "print(\"전체 최저점은 \", min(min_value))\n",
    "print(\"********************************\")"
   ]
  },
  {
   "cell_type": "markdown",
   "metadata": {},
   "source": [
    "### ramdom 모듈을 이용해서 풀이를 해보았다.\n",
    "### for 문이 중첩되지 않고 할 수 있는 방법이 있을까??"
   ]
  }
 ],
 "metadata": {
  "kernelspec": {
   "display_name": "Python 3",
   "language": "python",
   "name": "python3"
  },
  "language_info": {
   "codemirror_mode": {
    "name": "ipython",
    "version": 3
   },
   "file_extension": ".py",
   "mimetype": "text/x-python",
   "name": "python",
   "nbconvert_exporter": "python",
   "pygments_lexer": "ipython3",
   "version": "3.7.7"
  }
 },
 "nbformat": 4,
 "nbformat_minor": 4
}
