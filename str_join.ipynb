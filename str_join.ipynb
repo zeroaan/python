{
 "cells": [
  {
   "cell_type": "markdown",
   "metadata": {},
   "source": [
    "# 리스트를 문자열로 변환\n",
    "\n",
    "### join 함수 사용"
   ]
  },
  {
   "cell_type": "code",
   "execution_count": 1,
   "metadata": {},
   "outputs": [
    {
     "name": "stdout",
     "output_type": "stream",
     "text": [
      "하마, 원숭이, 사자, 호랑이, 고양이, 강아지\n"
     ]
    }
   ],
   "source": [
    "animal = ['하마', '원숭이', '사자', '호랑이', '고양이', '강아지']\n",
    "\n",
    "str_animal = \", \".join(animal) # \", \" 를 포함하여 문자열로 변환한다\n",
    "\n",
    "print(str_animal)"
   ]
  }
 ],
 "metadata": {
  "kernelspec": {
   "display_name": "Python 3",
   "language": "python",
   "name": "python3"
  },
  "language_info": {
   "codemirror_mode": {
    "name": "ipython",
    "version": 3
   },
   "file_extension": ".py",
   "mimetype": "text/x-python",
   "name": "python",
   "nbconvert_exporter": "python",
   "pygments_lexer": "ipython3",
   "version": "3.7.7"
  }
 },
 "nbformat": 4,
 "nbformat_minor": 4
}
