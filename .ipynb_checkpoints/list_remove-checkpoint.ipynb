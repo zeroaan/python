{
 "cells": [
  {
   "cell_type": "markdown",
   "metadata": {},
   "source": [
    "# 리스트 값 제거"
   ]
  },
  {
   "cell_type": "markdown",
   "metadata": {},
   "source": [
    "### remove 함수 사용"
   ]
  },
  {
   "cell_type": "code",
   "execution_count": 2,
   "metadata": {},
   "outputs": [
    {
     "name": "stdout",
     "output_type": "stream",
     "text": [
      "['kim', 'lee', 'choi']\n"
     ]
    }
   ],
   "source": [
    "list = ['kim', 'lee', 'park', 'choi']\n",
    "\n",
    "list.remove('park') # 'park' 삭제\n",
    "\n",
    "print(list)"
   ]
  },
  {
   "cell_type": "markdown",
   "metadata": {},
   "source": [
    "#### *리스트에 같은 값이 있을 경우에는 앞에 있는 값이 사라진다.*\n",
    "\n",
    "### 만약 리스트에 있는 해당 값을 모두 지우고 싶다면 반복문을 사용해 지워야 한다."
   ]
  },
  {
   "cell_type": "code",
   "execution_count": 5,
   "metadata": {},
   "outputs": [
    {
     "name": "stdout",
     "output_type": "stream",
     "text": [
      "['kim', 'park', 'choi']\n"
     ]
    }
   ],
   "source": [
    "list2 = ['kim', 'lee', 'park', 'choi', 'lee', 'lee']\n",
    "\n",
    "while 'lee' in list2:\n",
    "    list2.remove('lee') # 'lee' 삭제\n",
    "\n",
    "print(list2)"
   ]
  },
  {
   "cell_type": "markdown",
   "metadata": {},
   "source": [
    "### del 키워드 사용"
   ]
  },
  {
   "cell_type": "code",
   "execution_count": 8,
   "metadata": {},
   "outputs": [
    {
     "name": "stdout",
     "output_type": "stream",
     "text": [
      "['zero', 'one', 'three']\n"
     ]
    }
   ],
   "source": [
    "list3 = ['zero', 'one', 'two', 'three']\n",
    "\n",
    "del list3[2] # 두 번째 인덱스 값 삭제\n",
    "\n",
    "print(list3)"
   ]
  },
  {
   "cell_type": "code",
   "execution_count": 10,
   "metadata": {},
   "outputs": [
    {
     "name": "stdout",
     "output_type": "stream",
     "text": [
      "[0, 1, 5]\n"
     ]
    }
   ],
   "source": [
    "list4 = [0, 1, 2, 3, 4, 5]\n",
    "\n",
    "del list4[2:5] # 두 번째 인덱스부터 네 번째 인덱스 까지 삭제\n",
    "\n",
    "print(list4)"
   ]
  },
  {
   "cell_type": "markdown",
   "metadata": {},
   "source": [
    "### pop 함수 사용"
   ]
  },
  {
   "cell_type": "code",
   "execution_count": 14,
   "metadata": {},
   "outputs": [
    {
     "name": "stdout",
     "output_type": "stream",
     "text": [
      "['what', 'where', 'how', 'when']\n"
     ]
    }
   ],
   "source": [
    "list5 = ['what', 'why', 'where', 'how', 'when']\n",
    "\n",
    "list5.pop(1) # 첫 번째 인덱스 값('why') 삭제\n",
    "\n",
    "print(list5)"
   ]
  },
  {
   "cell_type": "markdown",
   "metadata": {},
   "source": [
    "### clear 함수 사용"
   ]
  },
  {
   "cell_type": "code",
   "execution_count": 15,
   "metadata": {},
   "outputs": [
    {
     "name": "stdout",
     "output_type": "stream",
     "text": [
      "[]\n"
     ]
    }
   ],
   "source": [
    "list6 = ['a', 'b', 'c', 'd', 'e']\n",
    "\n",
    "list6.clear() # 리스트 원소 모두 삭제\n",
    "\n",
    "print(list6)"
   ]
  }
 ],
 "metadata": {
  "kernelspec": {
   "display_name": "Python 3",
   "language": "python",
   "name": "python3"
  },
  "language_info": {
   "codemirror_mode": {
    "name": "ipython",
    "version": 3
   },
   "file_extension": ".py",
   "mimetype": "text/x-python",
   "name": "python",
   "nbconvert_exporter": "python",
   "pygments_lexer": "ipython3",
   "version": "3.7.7"
  }
 },
 "nbformat": 4,
 "nbformat_minor": 4
}
