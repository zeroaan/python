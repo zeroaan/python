{
 "cells": [
  {
   "cell_type": "markdown",
   "metadata": {},
   "source": [
    "# 힙 정렬(heap sort)\n",
    "\n",
    "### 힙은 크기(우선 순위)를 중심으로 정렬된 시퀀스를 활용할 때 유용한 자료구조이다.\n",
    "#### 한 노드가 최대 두개의 자식 노드를 가지면서 마지막 레벨을 제외한 모든 레벨에서 완전 이진트리를 기본으로 구조를 가지고 있다."
   ]
  },
  {
   "cell_type": "code",
   "execution_count": 2,
   "metadata": {},
   "outputs": [
    {
     "name": "stdout",
     "output_type": "stream",
     "text": [
      "[0, 1, 2, 4, 5, 3]\n",
      "[0, 2, 3, 4, 5, 1]\n",
      "[0, 3, 5, 4, 2, 1]\n",
      "[0, 4, 5, 3, 2, 1]\n",
      "[0, 5, 4, 3, 2, 1]\n"
     ]
    },
    {
     "data": {
      "text/plain": [
       "[1, 2, 3, 4, 5]"
      ]
     },
     "execution_count": 2,
     "metadata": {},
     "output_type": "execute_result"
    }
   ],
   "source": [
    "def heapify(li, idx, n):\n",
    "    l = idx * 2;\n",
    "    r = idx * 2 + 1\n",
    "    s_idx = idx\n",
    "    \n",
    "    if (l <= n and li[s_idx] > li[l]):\n",
    "        s_idx = l\n",
    "        \n",
    "    if (r <= n and li[s_idx] > li[r]):\n",
    "        s_idx = r\n",
    "        \n",
    "    if s_idx != idx:\n",
    "        li[idx], li[s_idx] = li[s_idx], li[idx]\n",
    "        return heapify(li, s_idx, n)\n",
    " \n",
    "def heap_sort(v):\n",
    "    result = []\n",
    "    n = len(v)\n",
    "    v = [0]+v\n",
    " \n",
    "    for i in range(n, 0, -1) :\n",
    "        heapify(v, i, n)\n",
    " \n",
    "    for i in range(n, 0, -1) :\n",
    "        result.append(v[1])\n",
    "        print(v)\n",
    "        v[i], v[1] = v[1], v[i]\n",
    "        heapify(v, 1, i-1)\n",
    "     \n",
    "    return result\n",
    "\n",
    "heap_sort([5,3,4,2,1])"
   ]
  },
  {
   "cell_type": "markdown",
   "metadata": {},
   "source": [
    "# 어렵다. 나중에 다시 해보자"
   ]
  }
 ],
 "metadata": {
  "kernelspec": {
   "display_name": "Python 3",
   "language": "python",
   "name": "python3"
  },
  "language_info": {
   "codemirror_mode": {
    "name": "ipython",
    "version": 3
   },
   "file_extension": ".py",
   "mimetype": "text/x-python",
   "name": "python",
   "nbconvert_exporter": "python",
   "pygments_lexer": "ipython3",
   "version": "3.7.7"
  }
 },
 "nbformat": 4,
 "nbformat_minor": 4
}
